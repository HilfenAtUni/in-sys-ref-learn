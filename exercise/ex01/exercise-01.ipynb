{
 "cells": [
  {
   "cell_type": "markdown",
   "metadata": {},
   "source": [
    "\n",
    "| Name | Matriknr. | Studiengang |\n",
    "| --- | --- | --- |\n",
    "| Zhang.Guangde| 4200165| Msc. Informatik|\n",
    "| Lan.Songnian| 4055640|Msc. Informatik|\n",
    "|Yi.Zixin | 4126223|Msc. Informatik|"
   ]
  },
  {
   "cell_type": "code",
   "execution_count": null,
   "metadata": {},
   "outputs": [],
   "source": []
  },
  {
   "cell_type": "code",
   "execution_count": 1,
   "metadata": {},
   "outputs": [],
   "source": [
    "import numpy as np\n",
    "import matplotlib.pyplot as plt\n",
    "import csv\n",
    "import pandas as pd\n",
    "%matplotlib inline"
   ]
  },
  {
   "cell_type": "markdown",
   "metadata": {},
   "source": [
    "# Refresher on Linear Algebra and Derivatives\n"
   ]
  },
  {
   "cell_type": "markdown",
   "metadata": {},
   "source": [
    "- (a) Let $A$ be a $3 \\times 4$ matrix and $B$ a $3 \\times 2$ matrix, what is the size of $A^T B$."
   ]
  },
  {
   "cell_type": "markdown",
   "metadata": {},
   "source": [
    "Answer:    \n",
    "As we known A is a $3 \\times 4$ matrix, so the  transpose of A is a $4 \\times 3$. Then the size  of $A^T B$ is a $4 \\times 2$ matrix.\n",
    "\n",
    "$\\because \\begin{aligned}\n",
    "A = \\left\\{\\begin{matrix}\n",
    " a_{11} & a_{12} & a_{13} & a_{14} \\\\\n",
    " a_{21} & a_{22} & a_{23} & a_{24} \\\\\n",
    " a_{31} & a_{32} & a_{33} & a_{34}\n",
    "\\end{matrix}\\right\\}\n",
    "\\end{aligned}$ and\n",
    "$\\begin{aligned}\n",
    "B = \\left\\{\\begin{matrix}\n",
    " b_{11} & b_{12} \\\\\n",
    " b_{21} & b_{22} \\\\\n",
    " b_{31} & b_{32}\n",
    "\\end{matrix}\\right\\}\n",
    "\\end{aligned}$\n",
    "\n",
    "$\\therefore \\begin{aligned}\n",
    "A^T = \\left\\{\\begin{matrix}\n",
    " a_{11} & a_{21} & a_{31} \\\\\n",
    " a_{12} & a_{22} & a_{32} \\\\\n",
    " a_{13} & a_{23} & a_{33} \\\\\n",
    " a_{14} & a_{24} & a_{34}\n",
    "\\end{matrix}\\right\\}\n",
    "\\end{aligned}$\n",
    "\n",
    "$\\begin{aligned}\n",
    "A^TB &= \\left\\{\\begin{matrix}\n",
    " a_{11} & a_{21} & a_{31} \\\\\n",
    " a_{12} & a_{22} & a_{32} \\\\\n",
    " a_{13} & a_{23} & a_{33} \\\\\n",
    " a_{14} & a_{24} & a_{34}\n",
    "\\end{matrix}\\right\\}\n",
    "\\left\\{\\begin{matrix}\n",
    " b_{11} & b_{12} \\\\\n",
    " b_{21} & b_{22} \\\\\n",
    " b_{31} & b_{32}\n",
    "\\end{matrix}\\right\\} \\\\\n",
    " &= \\left\\{\\begin{matrix}\n",
    "     \\sum_{i=1}^{3}\\sum_{j=1}^{3}a_{i1}b_{j1} & \\sum_{i=1}^{3}\\sum_{j=1}^{3}a_{i1}b_{j2} \\\\\n",
    "     \\sum_{i=2}^{3}\\sum_{j=1}^{3}a_{i1}b_{j1} & \\sum_{i=2}^{3}\\sum_{j=1}^{3}a_{i1}b_{j2} \\\\\n",
    "     \\sum_{i=3}^{3}\\sum_{j=1}^{3}a_{i1}b_{j1} & \\sum_{i=3}^{3}\\sum_{j=1}^{3}a_{i1}b_{j2} \\\\\n",
    "     \\sum_{i=4}^{3}\\sum_{j=1}^{3}a_{i1}b_{j1} & \\sum_{i=4}^{3}\\sum_{j=1}^{3}a_{i1}b_{j2}\n",
    " \\end{matrix}\\right\\}\n",
    "\\end{aligned}$"
   ]
  },
  {
   "cell_type": "code",
   "execution_count": 2,
   "metadata": {},
   "outputs": [
    {
     "name": "stdout",
     "output_type": "stream",
     "text": [
      "A.T:(4, 3) x B:(3, 2)=C:(4, 2)\n"
     ]
    }
   ],
   "source": [
    "A = np.ones(shape=(3,4))\n",
    "B = np.ones(shape=(3,2))\n",
    "C = A.T.dot(B)\n",
    "print(\"A.T:{} x B:{}=C:{}\".format(A.T.shape, B.shape, C.shape))"
   ]
  },
  {
   "cell_type": "markdown",
   "metadata": {},
   "source": [
    "- (b) Let $x \\in R^n$ be a column vector (vectors are always columns for us) and $A$ a $m × n$ matrix. What is the size of $Ax$."
   ]
  },
  {
   "cell_type": "markdown",
   "metadata": {},
   "source": [
    "Answer:   \n",
    "From above we know that , x is a column vector ,also $n×1$ matrix. A is a $m × n$ matrix. So the size of $Ax$ is $m×1$ matrix.\n",
    "\n",
    "assume $x=\\left\\{\\begin{matrix}x_1 \\dots x_n\\end{matrix}\\right\\}^T$ and $\\begin{aligned}\n",
    "    A=\\left\\{\\begin{matrix}\n",
    "        A_{1,1} & A_{1,2} & \\dots & A_{1,n} \\\\\n",
    "        A_{2,1} & A_{2,2} & \\dots & A_{2,n} \\\\\n",
    "        \\vdots & \\vdots & \\ddots & \\vdots \\\\\n",
    "        A_{m,1} & A_{m,2} & \\dots & A_{m,n}\n",
    "    \\end{matrix}\\right\\}\n",
    "\\end{aligned}$\n",
    "\n",
    "$\\begin{aligned}\n",
    "    Ax &= \\left\\{\\begin{matrix}\n",
    "        A_{1,1} & A_{1,2} & \\dots & A_{1,n} \\\\\n",
    "        A_{2,1} & A_{2,2} & \\dots & A_{2,n} \\\\\n",
    "        \\vdots & \\vdots & \\ddots & \\vdots \\\\\n",
    "        A_{m,1} & A_{m,2} & \\dots & A_{m,n}\n",
    "    \\end{matrix}\\right\\}\n",
    "    \\left\\{\\begin{matrix}x_1 \\\\\n",
    "        \\vdots \\\\\n",
    "        x_n\\end{matrix}\\right\\} \\\\\n",
    "    &= \\left\\{\\begin{matrix}\n",
    "        \\sum_{i=1}^{n} A_{1,i}x_i \\\\\n",
    "        \\vdots \\\\\n",
    "        \\sum_{i=1}^{n} A_{m,i}x_i \\\\\n",
    "    \\end{matrix}\\right\\}\n",
    "\\end{aligned}$"
   ]
  },
  {
   "cell_type": "code",
   "execution_count": 3,
   "metadata": {},
   "outputs": [
    {
     "name": "stdout",
     "output_type": "stream",
     "text": [
      "A:(5, 4) * x:(4, 1) = y:(5, 1)\n"
     ]
    }
   ],
   "source": [
    "x = np.ones(shape=(4,1))\n",
    "A = np.ones(shape=(5,4))\n",
    "y = A.dot(x)\n",
    "print(\"A:{} * x:{} = y:{}\".format(A.shape, x.shape, y.shape))"
   ]
  },
  {
   "cell_type": "markdown",
   "metadata": {},
   "source": [
    "- (c) What is the derivative of $f(x) = (2x + y)^2$ w.r.t. x:$\\frac{\\partial}{\\partial x}f(x)$"
   ]
  },
  {
   "cell_type": "markdown",
   "metadata": {},
   "source": [
    "$$\\begin{aligned}\n",
    "\\frac{\\partial}{\\partial x} f(x) &= \\frac{\\partial}{\\partial x} (2x+y)^2 \\\\\n",
    "                                 &=  2(2x+y).2 \\\\\n",
    "                                 &= 8x + 4y\n",
    "\\end{aligned}$$"
   ]
  },
  {
   "cell_type": "markdown",
   "metadata": {},
   "source": [
    "- (d) Given $f(x) = g(x^2)$ where $g(x) = (x + y)^2$, what is $\\frac{\\partial}{\\partial x}f(x)$"
   ]
  },
  {
   "cell_type": "markdown",
   "metadata": {},
   "source": [
    "$$\\begin{aligned}\n",
    "\\frac{\\partial}{\\partial x}f(x) &= \\frac{\\partial}{\\partial x} g(x^2) \\\\\n",
    "                                &= (\\frac{\\partial}{\\partial x} (x^2+y)^2 )*(\\frac{\\partial}{\\partial x} (x^2))\\\\\n",
    "                                &= (2(x+y))*(2x) \\\\\n",
    "                                &= 4x^3 + 4xy\n",
    "\\end{aligned}$$"
   ]
  },
  {
   "cell_type": "markdown",
   "metadata": {},
   "source": [
    "# Multivariable Calculus\n",
    "\n",
    "Recall that a matrix $A \\in R^{n\\times n}$ is symmetric if $A^T = A$, that is, $A_{ij} = A_{ji}$ for\n",
    "all $i, j$. Also recall the gradient $\\nabla f(x)$ of a function $f : R^n → R$ is the $n$−vector\n",
    "of partial derivatives\n",
    "\n",
    "$$\n",
    "\\nabla f(x) = \\left\\{\n",
    "\\begin{matrix}\n",
    "    \\frac{\\partial}{\\partial x_1}f(x) \\\\\n",
    "    ... \\\\\n",
    "    \\frac{\\partial}{\\partial x_1}f(x)\n",
    "    \\end{matrix}\n",
    "\\right\\}\n",
    "$$\n",
    "\n",
    "where\n",
    "\n",
    "$$\n",
    "x = \\left\\{\n",
    "\\begin{matrix}\n",
    "    x_1 \\\\\n",
    "    ... \\\\\n",
    "    x_n\n",
    "\\end{matrix}\n",
    "\\right\\}\n",
    "$$\n",
    "\n",
    "The hessian $\\nabla^2 f(x)$ is the $n\\times n$ symmetric matrix of twice partial derivatives,\n",
    "\n",
    "$$\\begin{aligned}\n",
    "\\nabla^2f(x) = \\left\\{\n",
    "\\begin{matrix}\n",
    "    \\frac{\\partial^2}{\\partial x_1^2}f(x) & \\frac{\\partial^2}{\\partial x_1 \\partial x_2}f(x) & \\cdots & \\frac{\\partial^2}{\\partial x_1 \\partial x_n} \\\\\n",
    "    \\frac{\\partial^2}{\\partial x_2 \\partial x_1}f(x) & \\frac{\\partial^2}{\\partial x_2^2}f(x) & \\cdots & \\frac{\\partial^2}{\\partial x_2 \\partial x_n} \\\\\n",
    "    \\vdots & \\vdots & \\ddots & \\vdots \\\\\n",
    "    \\frac{\\partial^2}{\\partial x_n \\partial x_1}f(x) & \\frac{\\partial^2}{\\partial x_n \\partial x_2}f(x) & \\cdots & \\frac{\\partial^2}{\\partial x_n^2} \\\\\n",
    "\\end{matrix}\n",
    "\\right\\}\n",
    "\\end{aligned}$$\n"
   ]
  },
  {
   "cell_type": "markdown",
   "metadata": {},
   "source": [
    "- a) Let $f(x) = \\frac{1}{2}x^TAx+b^Tx$, where $a$ is a sysmmetric matrix and $b\\in R^n$ is a vector. What is $\\nabla f(x)$?"
   ]
  },
  {
   "cell_type": "markdown",
   "metadata": {},
   "source": [
    "$\\because$ $A\\in R^{n\\times n}$, $A_{ij} = A_{ji}$ and $f(x)= \\frac{1}{2}x^TAx+b^Tx$\n",
    "\n",
    "$\\therefore$\n",
    "$$\\begin{aligned}\n",
    "    \\frac{\\partial}{\\partial x_i} f(x) &= \\frac{\\partial}{\\partial x_i} (\\frac{1}{2}x^TAx+b^Tx) \\\\\n",
    "    &= \\frac{\\partial}{\\partial x_i}(\\space \\frac{1}{2}\\left\\{\\begin{matrix}\n",
    "            x_1 \\cdots x_n\n",
    "            \\end{matrix}\\right\\}\n",
    "            \\left\\{\\begin{matrix}\n",
    "            A_{1,1} & A_{1,2}\\space & \\cdots & A_{1,n} \\\\\n",
    "            A_{2,1} & A_{2,2}\\space & \\cdots & A_{2,n} \\\\\n",
    "            \\vdots & \\vdots & \\ddots & \\vdots \\\\\n",
    "            A_{n,1} & A_{n,2} & \\cdots & A_{n,n} \\\\\n",
    "            \\end{matrix}\\right\\}\n",
    "            \\left\\{\\begin{matrix}\n",
    "            x_1 \\\\\n",
    "            x_2 \\\\\n",
    "            \\vdots \\\\\n",
    "            x_n\n",
    "            \\end{matrix}\\right\\}\n",
    "            +\\left\\{\\begin{matrix}\n",
    "            b_1\\space b_2\\space ... b_n\n",
    "            \\end{matrix}\\right\\}\\left\\{\\begin{matrix}\n",
    "            x_1 \\\\\n",
    "            x_2 \\\\\n",
    "            \\vdots \\\\\n",
    "            x_n\n",
    "            \\end{matrix}\\right\\} )\\\\\n",
    "    &= \\frac{\\partial}{\\partial x_i} (\\frac{1}{2} \\sum_{i=1}^{n}\\sum_{j=1}^{n}A_{ij}x_ix_j + \\sum_{j=1}^n b_jx_i) \\\\\n",
    "    &= \\frac{\\partial}{\\partial x_i} (\\frac{1}{2} (\\sum_{i=1}^{n}A_{ii}x_i^2 + \\sum_{i=1, i\\neq j}^{n}\\sum_{j=1, i\\neq j}^{n}A_{ij}x_ix_j) + \\sum_{j=1}^n b_jx_i) \\\\\n",
    "    &= A_{ii}x_i + \\sum_{j=1,i\\neq j}^{n}A_{ij}x_i + \\sum_{j=1}^{n}b_j \\\\\n",
    "    &= \\sum_{j=1}^{n}A_{ij}x_i + \\sum_{j=1}^{n}b_j\n",
    "\\end{aligned}$$\n",
    "\n",
    "\n",
    "$\\therefore$\n",
    "$$\\begin{aligned}\n",
    "\\nabla f(x) &= \\left\\{\n",
    "        \\begin{matrix}\n",
    "            \\frac{\\partial}{\\partial x_1}f(x) \\\\\n",
    "            \\vdots \\\\\n",
    "            \\frac{\\partial}{\\partial x_n}f(x) \\\\\n",
    "        \\end{matrix}\\right\\} \\\\\n",
    "    &= \\left\\{\n",
    "        \\begin{matrix}\n",
    "            \\sum_{j=1}^{n}A_{1j}x_1 + \\sum_{j=1}^{n}b_j \\\\\n",
    "            \\vdots \\\\\n",
    "            \\sum_{j=1}^{n}A_{nj}x_n + \\sum_{j=1}^{n}b_j\n",
    "        \\end{matrix}\n",
    "        \\right\\} \\\\\n",
    "    &= Ax+b\n",
    "\\end{aligned}$$"
   ]
  },
  {
   "cell_type": "markdown",
   "metadata": {},
   "source": [
    "- b) Let $f(x) = g(h(x))$, where $g:R\\to R$ is differentiable and $h: R^n\\to R$ is differentiable. What is $\\nabla f(x)$?"
   ]
  },
  {
   "cell_type": "markdown",
   "metadata": {},
   "source": [
    "$$\\begin{aligned}\n",
    "\\nabla f(x) &= \\nabla g(h(x)) \\\\\n",
    "    &= \\frac{\\partial g(h(x))}{\\partial h(x)} \\cdot \\frac{\\partial h(x)}{\\partial x} \\\\\n",
    "    &= \\frac{\\partial g(h(x))}{\\partial h(x)} \\cdot \\left\\{\\begin{matrix}\n",
    "        \\frac{\\partial h(x)}{\\partial x_1} \\\\\n",
    "        \\vdots \\\\\n",
    "        \\frac{\\partial h(x)}{\\partial x_i} \\\\\n",
    "        \\vdots \\\\\n",
    "        \\frac{\\partial h(x)}{\\partial x_n}\n",
    "    \\end{matrix}\\right\\}\n",
    "\\end{aligned}$$"
   ]
  },
  {
   "cell_type": "markdown",
   "metadata": {},
   "source": [
    "- c) Let $f(x) = \\frac{1}{2}x^Tx + b^Tx$ as in a. What is $\\nabla^2f(x)$?"
   ]
  },
  {
   "cell_type": "markdown",
   "metadata": {},
   "source": [
    "From (a) knows that $\\nabla f(x) = Ax+b$\n",
    "\n",
    "$\\therefore$ $$\\begin{aligned}\n",
    "    \\nabla^2f(x) &= \\nabla(\\nabla f(x)) \\\\\n",
    "        &= \\nabla(Ax+b) \\\\\n",
    "        &= \\left\\{\\begin{matrix}\n",
    "            \\frac{\\partial (Ax+b)}{\\partial x_1} \\\\\n",
    "            \\vdots \\\\\n",
    "            \\frac{\\partial (Ax+b)}{\\partial x_n}\n",
    "        \\end{matrix}\\right\\} \\\\\n",
    "        &= A\n",
    "\\end{aligned}$$"
   ]
  },
  {
   "cell_type": "markdown",
   "metadata": {},
   "source": [
    "- d) Let $f(x) = g(a^Tx)$, where $g:R\\to R$ is continuously differentiable and $a\\in R^n$ is a vector. What are $\\nabla f(x)$ and $\\nabla^2f(x)$?"
   ]
  },
  {
   "cell_type": "markdown",
   "metadata": {},
   "source": [
    "assume that $h(x) = a^Tx$\n",
    "\n",
    "$$\\begin{aligned}\n",
    "\\frac{\\partial h(x)}{\\partial x} &= \\frac{\\partial a^Tx}{\\partial x} \\\\\n",
    "        &= a\n",
    "\\end{aligned}$$\n",
    "\n",
    "$\\therefore$ $$\\begin{aligned}\n",
    "    \\nabla f(x) &= \\nabla g(h(x)) \\\\\n",
    "        &= \\frac{\\partial g(h)}{\\partial h} \\cdot \\frac{\\partial h(x)}{\\partial x} \\\\\n",
    "        &= \\frac{\\partial g(h)}{\\partial h} \\cdot \\frac{\\partial a^Tx}{\\partial x} \\\\\n",
    "        &= \\frac{\\partial g(h)}{\\partial h} \\cdot a\n",
    "\\end{aligned}$$\n",
    "\n",
    "$$\\begin{aligned}\n",
    "    \\nabla^2 f(x) &= \\nabla(\\nabla f(x)) \\\\\n",
    "        &= \\nabla (\\frac{\\partial g(h)}{\\partial h} \\cdot a) \\\\\n",
    "        &= 0\n",
    "\\end{aligned}$$"
   ]
  },
  {
   "cell_type": "markdown",
   "metadata": {},
   "source": [
    "# Hands On"
   ]
  },
  {
   "cell_type": "code",
   "execution_count": 4,
   "metadata": {},
   "outputs": [],
   "source": [
    "with open(\"diabetes.txt\",\"r\") as file:\n",
    "    reader = csv.reader(file, delimiter=' ')\n",
    "    table = np.asarray([row for row in reader], dtype=np.float)\n",
    "\n",
    "# table.sort(axis=0)"
   ]
  },
  {
   "cell_type": "code",
   "execution_count": 19,
   "metadata": {},
   "outputs": [
    {
     "data": {
      "text/plain": [
       "(442, 11)"
      ]
     },
     "execution_count": 19,
     "metadata": {},
     "output_type": "execute_result"
    }
   ],
   "source": [
    "xs=np.transpose(table[:,0:-1])\n",
    "xs.shape\n",
    "ys=table[:,-1]\n",
    "ys.shape\n",
    "table.shape"
   ]
  },
  {
   "cell_type": "markdown",
   "metadata": {},
   "source": [
    "- run the following experiment by taking the first 200 data points as training and the next 200 points as validation set"
   ]
  },
  {
   "cell_type": "code",
   "execution_count": 5,
   "metadata": {},
   "outputs": [],
   "source": [
    "training_set = table[:200,:] #taking the first 200 data points as training set\n",
    "validation_set = table[200:400,:] # taking the next 200 points as validation set\n",
    "# training set\n",
    "x_training =training_set[:,:10]  \n",
    "y_training =training_set[:,10:] #for taining_set choose x_matrix und y_matrix  200hang 1lie \n",
    "# validation set\n",
    "x_validation=validation_set[:,:10]  \n",
    "y_validation =validation_set[:,10:]  #for validation_set choose x_matrix und y_matrix"
   ]
  },
  {
   "cell_type": "markdown",
   "metadata": {},
   "source": [
    "- train a least squares regression model without regularization (using matrix operations)"
   ]
  },
  {
   "cell_type": "code",
   "execution_count": 6,
   "metadata": {},
   "outputs": [
    {
     "name": "stdout",
     "output_type": "stream",
     "text": [
      "solve is: [[ -417.97043881  -239.65634372   573.7328081    164.48588506\n",
      "  -2438.3248339   1673.911313     688.89188963    98.98921971\n",
      "   1287.00977365   102.9581032 ]].T\n"
     ]
    }
   ],
   "source": [
    "# by solve method\n",
    "lhs = np.dot(x_training.T, x_training)\n",
    "rhs = np.dot(x_training.T, y_training)\n",
    "w = np.linalg.solve(lhs, rhs)\n",
    "print(\"solve is: {}.T\".format(w.T))\n",
    "# by matrix operate\n",
    "w = np.mat(x_training.T.dot(x_training)).I.dot(x_training.T).dot(y_training)\n",
    "# print(\"solve is: {}.T\".format(w.T))"
   ]
  },
  {
   "cell_type": "markdown",
   "metadata": {},
   "source": [
    "- for each regularization parameters $\\lambda\\in\\lbrace2^{-20},2^{-19},...2^{10} \\rbrace$ train a ridge regression model with regularization \u0015 (using matrix operations)"
   ]
  },
  {
   "cell_type": "code",
   "execution_count": 21,
   "metadata": {},
   "outputs": [
    {
     "data": {
      "text/plain": [
       "array([[[-1.65679684e+08],\n",
       "        [-1.03930393e+08],\n",
       "        [ 2.59856587e+08],\n",
       "        [ 9.51817735e+07],\n",
       "        [-1.10890105e+08],\n",
       "        [-1.04465299e+08],\n",
       "        [-3.14954395e+08],\n",
       "        [ 1.06600162e+08],\n",
       "        [ 2.17841341e+08],\n",
       "        [ 1.20440016e+08]],\n",
       "\n",
       "       [[-8.28398417e+07],\n",
       "        [-5.19651961e+07],\n",
       "        [ 1.29928294e+08],\n",
       "        [ 4.75908870e+07],\n",
       "        [-5.54450523e+07],\n",
       "        [-5.22326491e+07],\n",
       "        [-1.57477197e+08],\n",
       "        [ 5.33000813e+07],\n",
       "        [ 1.08920671e+08],\n",
       "        [ 6.02200082e+07]],\n",
       "\n",
       "       [[-4.14199206e+07],\n",
       "        [-2.59825978e+07],\n",
       "        [ 6.49641470e+07],\n",
       "        [ 2.37954437e+07],\n",
       "        [-2.77225260e+07],\n",
       "        [-2.61163243e+07],\n",
       "        [-7.87385984e+07],\n",
       "        [ 2.66500409e+07],\n",
       "        [ 5.44603355e+07],\n",
       "        [ 3.01100043e+07]],\n",
       "\n",
       "       [[-2.07099601e+07],\n",
       "        [-1.29912987e+07],\n",
       "        [ 3.24820737e+07],\n",
       "        [ 1.18977221e+07],\n",
       "        [-1.38612628e+07],\n",
       "        [-1.30581619e+07],\n",
       "        [-3.93692990e+07],\n",
       "        [ 1.33250206e+07],\n",
       "        [ 2.72301680e+07],\n",
       "        [ 1.50550024e+07]],\n",
       "\n",
       "       [[-1.03549798e+07],\n",
       "        [-6.49564914e+06],\n",
       "        [ 1.62410371e+07],\n",
       "        [ 5.94886125e+06],\n",
       "        [-6.93063117e+06],\n",
       "        [-6.52908076e+06],\n",
       "        [-1.96846493e+07],\n",
       "        [ 6.66251054e+06],\n",
       "        [ 1.36150842e+07],\n",
       "        [ 7.52750139e+06]],\n",
       "\n",
       "       [[-5.17748970e+06],\n",
       "        [-3.24782436e+06],\n",
       "        [ 8.12051875e+06],\n",
       "        [ 2.97443084e+06],\n",
       "        [-3.46531537e+06],\n",
       "        [-3.26454017e+06],\n",
       "        [-9.84232442e+06],\n",
       "        [ 3.33125548e+06],\n",
       "        [ 6.80754232e+06],\n",
       "        [ 3.76375091e+06]],\n",
       "\n",
       "       [[-2.58874464e+06],\n",
       "        [-1.62391196e+06],\n",
       "        [ 4.06025959e+06],\n",
       "        [ 1.48721563e+06],\n",
       "        [-1.73265747e+06],\n",
       "        [-1.63226987e+06],\n",
       "        [-4.92116200e+06],\n",
       "        [ 1.66562796e+06],\n",
       "        [ 3.40377137e+06],\n",
       "        [ 1.88187567e+06]],\n",
       "\n",
       "       [[-1.29437210e+06],\n",
       "        [-8.11955768e+05],\n",
       "        [ 2.03013001e+06],\n",
       "        [ 7.43608031e+05],\n",
       "        [-8.66328521e+05],\n",
       "        [-8.16134720e+05],\n",
       "        [-2.46058078e+06],\n",
       "        [ 8.32814192e+05],\n",
       "        [ 1.70188590e+06],\n",
       "        [ 9.40938049e+05]],\n",
       "\n",
       "       [[-6.47185838e+05],\n",
       "        [-4.05977670e+05],\n",
       "        [ 1.01506522e+06],\n",
       "        [ 3.71804229e+05],\n",
       "        [-4.33164047e+05],\n",
       "        [-4.08067146e+05],\n",
       "        [-1.23029018e+06],\n",
       "        [ 4.16407310e+05],\n",
       "        [ 8.50943164e+05],\n",
       "        [ 4.70469239e+05]],\n",
       "\n",
       "       [[-3.23592705e+05],\n",
       "        [-2.02988621e+05],\n",
       "        [ 5.07532824e+05],\n",
       "        [ 1.85902329e+05],\n",
       "        [-2.16581809e+05],\n",
       "        [-2.04033359e+05],\n",
       "        [-6.15144875e+05],\n",
       "        [ 2.08203869e+05],\n",
       "        [ 4.25471796e+05],\n",
       "        [ 2.35234833e+05]],\n",
       "\n",
       "       [[-1.61796138e+05],\n",
       "        [-1.01494096e+05],\n",
       "        [ 2.53766626e+05],\n",
       "        [ 9.29513786e+04],\n",
       "        [-1.08290690e+05],\n",
       "        [-1.02016465e+05],\n",
       "        [-3.07572223e+05],\n",
       "        [ 1.04102149e+05],\n",
       "        [ 2.12736112e+05],\n",
       "        [ 1.17617631e+05]],\n",
       "\n",
       "       [[-8.08978551e+04],\n",
       "        [-5.07468340e+04],\n",
       "        [ 1.26883527e+05],\n",
       "        [ 4.64759034e+04],\n",
       "        [-5.41451311e+04],\n",
       "        [-5.10080185e+04],\n",
       "        [-1.53785898e+05],\n",
       "        [ 5.20512885e+04],\n",
       "        [ 1.06368270e+05],\n",
       "        [ 5.88090296e+04]],\n",
       "\n",
       "       [[-4.04487134e+04],\n",
       "        [-2.53732029e+04],\n",
       "        [ 6.34419777e+04],\n",
       "        [ 2.32381658e+04],\n",
       "        [-2.70723514e+04],\n",
       "        [-2.55037951e+04],\n",
       "        [-7.68927347e+04],\n",
       "        [ 2.60258584e+04],\n",
       "        [ 5.31843493e+04],\n",
       "        [ 2.94047289e+04]],\n",
       "\n",
       "       [[-2.02241426e+04],\n",
       "        [-1.26863873e+04],\n",
       "        [ 3.17212029e+04],\n",
       "        [ 1.16192970e+04],\n",
       "        [-1.35359616e+04],\n",
       "        [-1.27516835e+04],\n",
       "        [-3.84461532e+04],\n",
       "        [ 1.30131433e+04],\n",
       "        [ 2.65923887e+04],\n",
       "        [ 1.47025786e+04]],\n",
       "\n",
       "       [[-1.01118572e+04],\n",
       "        [-6.34297957e+03],\n",
       "        [ 1.58608156e+04],\n",
       "        [ 5.80986261e+03],\n",
       "        [-6.76776670e+03],\n",
       "        [-6.37562763e+03],\n",
       "        [-1.92228625e+04],\n",
       "        [ 6.50678574e+03],\n",
       "        [ 1.32964085e+04],\n",
       "        [ 7.35150338e+03]],\n",
       "\n",
       "       [[-5.05571454e+03],\n",
       "        [-3.17127573e+03],\n",
       "        [ 7.93062184e+03],\n",
       "        [ 2.90514536e+03],\n",
       "        [-3.38366929e+03],\n",
       "        [-3.18759976e+03],\n",
       "        [-9.61121720e+03],\n",
       "        [ 3.25360693e+03],\n",
       "        [ 6.64841829e+03],\n",
       "        [ 3.67596575e+03]],\n",
       "\n",
       "       [[-2.52764329e+03],\n",
       "        [-1.58542388e+03],\n",
       "        [ 3.96552490e+03],\n",
       "        [ 1.45278666e+03],\n",
       "        [-1.69162066e+03],\n",
       "        [-1.59358590e+03],\n",
       "        [-4.80539462e+03],\n",
       "        [ 1.62701745e+03],\n",
       "        [ 3.32442313e+03],\n",
       "        [ 1.83819686e+03]],\n",
       "\n",
       "       [[-1.26360781e+03],\n",
       "        [-7.92498108e+02],\n",
       "        [ 1.98297628e+03],\n",
       "        [ 7.26607164e+02],\n",
       "        [-8.45596500e+02],\n",
       "        [-7.96579116e+02],\n",
       "        [-2.40248348e+03],\n",
       "        [ 8.13722556e+02],\n",
       "        [ 1.66242540e+03],\n",
       "        [ 9.19312260e+02]],\n",
       "\n",
       "       [[-6.31590372e+02],\n",
       "        [-3.96035520e+02],\n",
       "        [ 9.91701676e+02],\n",
       "        [ 3.63517116e+02],\n",
       "        [-4.22584716e+02],\n",
       "        [-3.98076024e+02],\n",
       "        [-1.20102820e+03],\n",
       "        [ 4.07074812e+02],\n",
       "        [ 8.31426232e+02],\n",
       "        [ 4.59869664e+02]],\n",
       "\n",
       "       [[-3.15582248e+02],\n",
       "        [-1.97804822e+02],\n",
       "        [ 4.96063776e+02],\n",
       "        [ 1.81971496e+02],\n",
       "        [-2.11079420e+02],\n",
       "        [-1.98825074e+02],\n",
       "        [-6.00301164e+02],\n",
       "        [ 2.03750344e+02],\n",
       "        [ 4.15926054e+02],\n",
       "        [ 2.30147770e+02]],\n",
       "\n",
       "       [[-1.57579371e+02],\n",
       "        [-9.86906582e+01],\n",
       "        [ 2.48243641e+02],\n",
       "        [ 9.11975008e+01],\n",
       "        [-1.05327957e+02],\n",
       "        [-9.92007842e+01],\n",
       "        [-2.99938829e+02],\n",
       "        [ 1.02086925e+02],\n",
       "        [ 2.08174780e+02],\n",
       "        [ 1.15285638e+02]],\n",
       "\n",
       "       [[-7.85802711e+01],\n",
       "        [-4.91359146e+01],\n",
       "        [ 1.24331235e+02],\n",
       "        [ 4.58081649e+01],\n",
       "        [-5.24545641e+01],\n",
       "        [-4.93909776e+01],\n",
       "        [-1.49760000e+02],\n",
       "        [ 5.12528769e+01],\n",
       "        [ 1.04296804e+02],\n",
       "        [ 5.78522334e+01]],\n",
       "\n",
       "       [[-3.90852793e+01],\n",
       "        [-2.43631011e+01],\n",
       "        [ 6.23704737e+01],\n",
       "        [ 2.31089387e+01],\n",
       "        [-2.60224258e+01],\n",
       "        [-2.44906326e+01],\n",
       "        [-7.46751438e+01],\n",
       "        [ 2.58312947e+01],\n",
       "        [ 5.23532584e+01],\n",
       "        [ 2.91309729e+01]],\n",
       "\n",
       "       [[-1.93464501e+01],\n",
       "        [-1.19853610e+01],\n",
       "        [ 3.13814264e+01],\n",
       "        [ 1.17506589e+01],\n",
       "        [-1.28150234e+01],\n",
       "        [-1.20491267e+01],\n",
       "        [-3.71413824e+01],\n",
       "        [ 1.31118369e+01],\n",
       "        [ 2.63728188e+01],\n",
       "        [ 1.47616760e+01]],\n",
       "\n",
       "       [[-9.49274910e+00],\n",
       "        [-5.81220453e+00],\n",
       "        [ 1.58711892e+01],\n",
       "        [ 6.05580540e+00],\n",
       "        [-6.22703572e+00],\n",
       "        [-5.84408741e+00],\n",
       "        [-1.83902152e+01],\n",
       "        [ 6.73639440e+00],\n",
       "        [ 1.33668853e+01],\n",
       "        [ 7.56131397e+00]],\n",
       "\n",
       "       [[-4.59201920e+00],\n",
       "        [-2.75174692e+00],\n",
       "        [ 8.08994993e+00],\n",
       "        [ 3.18225805e+00],\n",
       "        [-2.95916251e+00],\n",
       "        [-2.76768835e+00],\n",
       "        [-9.04075226e+00],\n",
       "        [ 3.52255255e+00],\n",
       "        [ 6.83779802e+00],\n",
       "        [ 3.93501233e+00]],\n",
       "\n",
       "       [[-2.17910702e+00],\n",
       "        [-1.25897088e+00],\n",
       "        [ 4.16187754e+00],\n",
       "        [ 1.70803160e+00],\n",
       "        [-1.36267868e+00],\n",
       "        [-1.26694160e+00],\n",
       "        [-4.40347355e+00],\n",
       "        [ 1.87817885e+00],\n",
       "        [ 3.53580159e+00],\n",
       "        [ 2.08440874e+00]],\n",
       "\n",
       "       [[-1.01551426e+00],\n",
       "        [-5.55446194e-01],\n",
       "        [ 2.15497802e+00],\n",
       "        [ 9.28055048e-01],\n",
       "        [-6.07300092e-01],\n",
       "        [-5.59431553e-01],\n",
       "        [-2.12769753e+00],\n",
       "        [ 1.01312867e+00],\n",
       "        [ 1.84194004e+00],\n",
       "        [ 1.11624362e+00]],\n",
       "\n",
       "       [[-4.70184435e-01],\n",
       "        [-2.40150399e-01],\n",
       "        [ 1.11506171e+00],\n",
       "        [ 5.01600222e-01],\n",
       "        [-2.66077349e-01],\n",
       "        [-2.42143079e-01],\n",
       "        [-1.02627607e+00],\n",
       "        [ 5.44137034e-01],\n",
       "        [ 9.58542718e-01],\n",
       "        [ 5.95694507e-01]],\n",
       "\n",
       "       [[-2.19859842e-01],\n",
       "        [-1.04842825e-01],\n",
       "        [ 5.72763228e-01],\n",
       "        [ 2.66032486e-01],\n",
       "        [-1.17806299e-01],\n",
       "        [-1.05839164e-01],\n",
       "        [-4.97905659e-01],\n",
       "        [ 2.87300892e-01],\n",
       "        [ 4.94503734e-01],\n",
       "        [ 3.13079629e-01]]])"
      ]
     },
     "execution_count": 21,
     "metadata": {},
     "output_type": "execute_result"
    }
   ],
   "source": [
    "# parameters $\\lamda$\n",
    "h = np.asarray([i for i in range(-20, 10, 1)])\n",
    "lamda = np.exp2(h)\n",
    "d = 10\n",
    "# calculate w\n",
    "w = []\n",
    "for l in lamda:\n",
    "    ww = np.linalg.inv(np.sum(x_training.T.dot(x_training))\n",
    "                       + np.eye(M=d,N=d).dot(l)).dot(x_training.T).dot(y_training)\n",
    "    w.append(ww)\n",
    "w = np.asarray(w)\n",
    "w"
   ]
  },
  {
   "cell_type": "markdown",
   "metadata": {},
   "source": [
    "- evaluate the trained models on the validation set"
   ]
  },
  {
   "cell_type": "code",
   "execution_count": 8,
   "metadata": {},
   "outputs": [
    {
     "data": {
      "image/png": "[encoded data removed]",
      "text/plain": [
       "<Figure size 1152x432 with 1 Axes>"
      ]
     },
     "metadata": {
      "needs_background": "light"
     },
     "output_type": "display_data"
    }
   ],
   "source": [
    "err_tra = []\n",
    "err_tst = []\n",
    "fig = plt.figure(figsize=(16,6))\n",
    "\n",
    "# error of training dataset\n",
    "for i, ww in enumerate(w):\n",
    "    diff = np.subtract(ww.T.dot(x_training.T), y_training)\n",
    "    err_tra.append(np.std(diff));\n",
    "err_tra = np.asarray(err_tra);\n",
    "\n",
    "# error of test dataset\n",
    "for i, ww in enumerate(w):\n",
    "    diff = np.subtract(ww.T.dot(x_validation.T), y_validation)\n",
    "    err_tst.append(np.std(diff));\n",
    "err_tst = np.asarray(err_tst);\n",
    "\n",
    "plt.plot(err_tra, 'r.-');\n",
    "plt.plot(err_tst, 'b.-');\n",
    "plt.grid(True);\n",
    "plt.xlabel('$\\lambda$');"
   ]
  },
  {
   "cell_type": "markdown",
   "metadata": {},
   "source": [
    "- plot the results in a style that you fnd most appropriate/informative including the selected regularization parameter."
   ]
  },
  {
   "cell_type": "code",
   "execution_count": 9,
   "metadata": {
    "scrolled": false
   },
   "outputs": [
    {
     "name": "stderr",
     "output_type": "stream",
     "text": [
      "/anaconda3/lib/python3.6/site-packages/ipykernel/__main__.py:13: RuntimeWarning: invalid value encountered in true_divide\n",
      "/anaconda3/lib/python3.6/site-packages/ipykernel/__main__.py:17: RuntimeWarning: invalid value encountered in true_divide\n"
     ]
    },
    {
     "data": {
      "image/png": "[encoded data removed]",
      "text/plain": [
       "<Figure size 1152x432 with 1 Axes>"
      ]
     },
     "metadata": {
      "needs_background": "light"
     },
     "output_type": "display_data"
    }
   ],
   "source": [
    "fig = plt.figure(figsize=(16,6))\n",
    "\n",
    "kb = []\n",
    "vkb = []\n",
    "oplamda = 2**(-15);\n",
    "idx = range(1, 201, 10)\n",
    "\n",
    "for n in idx:\n",
    "    x = x_training[:n, :]\n",
    "    xxt = x.dot(x.T)\n",
    "    xxtl = x.dot(x.T) + np.dot(np.eye(M=n, N=n), oplamda)\n",
    "#         k.append(np.divide(np.argmax(xxt), np.argmin(xxt)))\n",
    "    kb.append(np.divide(np.argmax(xxtl), np.argmin(xxtl)))\n",
    "    vx = x_validation[:n, :]\n",
    "    vxxt = vx.dot(vx.T)\n",
    "    vxxtl = vx.dot(vx.T) + np.dot(np.eye(M=n, N=n), oplamda);\n",
    "    vkb.append(np.divide(np.argmax(vxxtl), np.argmin(vxxtl)))\n",
    "plt.plot(idx, kb, 'b.-');\n",
    "plt.plot(idx, vkb, 'r.-');\n",
    "plt.title('$\\lambda=2^{-15}$');"
   ]
  }
 ],
 "metadata": {
  "kernelspec": {
   "display_name": "Python [default]",
   "language": "python",
   "name": "python3"
  },
  "language_info": {
   "codemirror_mode": {
    "name": "ipython",
    "version": 3
   },
   "file_extension": ".py",
   "mimetype": "text/x-python",
   "name": "python",
   "nbconvert_exporter": "python",
   "pygments_lexer": "ipython3",
   "version": "3.6.4"
  }
 },
 "nbformat": 4,
 "nbformat_minor": 2
}
