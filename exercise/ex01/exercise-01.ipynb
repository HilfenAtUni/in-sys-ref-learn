{
 "cells": [
  {
   "cell_type": "code",
   "execution_count": 20,
   "metadata": {},
   "outputs": [],
   "source": [
    "import numpy as np\n",
    "import matplotlib.pyplot as plt\n",
    "import csv\n",
    "import pandas as pd\n",
    "%matplotlib inline"
   ]
  },
  {
   "cell_type": "markdown",
   "metadata": {},
   "source": [
    "# Refresher on Linear Algebra and Derivatives\n"
   ]
  },
  {
   "cell_type": "markdown",
   "metadata": {},
   "source": [
    "- (a) Let $A$ be a $3 \\times 4$ matrix and $B$ a $3 \\times 2$ matrix, what is the size of $A^T B$.\n",
    "\n",
    "> the size of $A^T B$ is $4 \\times 2$ matrix."
   ]
  },
  {
   "cell_type": "code",
   "execution_count": 33,
   "metadata": {},
   "outputs": [
    {
     "name": "stdout",
     "output_type": "stream",
     "text": [
      "A.T:(4, 3) x B:(3, 2)=C:(4, 2)\n"
     ]
    }
   ],
   "source": [
    "A = np.ones(shape=(3,4))\n",
    "B = np.ones(shape=(3,2))\n",
    "C = A.T.dot(B)\n",
    "print(\"A.T:{} x B:{}=C:{}\".format(A.T.shape, B.shape, C.shape))"
   ]
  },
  {
   "cell_type": "markdown",
   "metadata": {},
   "source": [
    "- (b) Let $x \\in R^n$ be a column vector (vectors are always columns for us) and $A$ a $m × n$ matrix. What is the size of $Ax$.\n",
    "\n",
    "> the size of $Ax$ is $m \\times 1$. matrix"
   ]
  },
  {
   "cell_type": "code",
   "execution_count": 36,
   "metadata": {},
   "outputs": [
    {
     "name": "stdout",
     "output_type": "stream",
     "text": [
      "A:(5, 4) * x:(4, 1) = y:(5, 1)\n"
     ]
    }
   ],
   "source": [
    "x = np.ones(shape=(4,1))\n",
    "A = np.ones(shape=(5,4))\n",
    "y = A.dot(x)\n",
    "print(\"A:{} * x:{} = y:{}\".format(A.shape, x.shape, y.shape))"
   ]
  },
  {
   "cell_type": "markdown",
   "metadata": {},
   "source": [
    "- (c) What is the derivative of $f(x) = (2x + y)^2$ w.r.t. x:$\\frac{\\partial}{\\partial x}f(x)$"
   ]
  },
  {
   "cell_type": "markdown",
   "metadata": {},
   "source": [
    "$$\\begin{aligned}\n",
    "\\frac{\\partial}{\\partial x} f(x) &= \\frac{\\partial}{\\partial x} (2x+y)^2 \\\\\n",
    "                                 &= \\frac{\\partial}{\\partial x} (4x^2 + 4xy + y^2) \\\\\n",
    "                                 &= 8x + 4y\n",
    "\\end{aligned}$$"
   ]
  },
  {
   "cell_type": "markdown",
   "metadata": {},
   "source": [
    "- (d) Given $f(x) = g(x^2)$ where $g(x) = (x + y)^2$, what is $\\frac{\\partial}{\\partial x}f(x)$"
   ]
  },
  {
   "cell_type": "markdown",
   "metadata": {},
   "source": [
    "$$\\begin{aligned}\n",
    "\\frac{\\partial}{\\partial x}f(x) &= \\frac{\\partial}{\\partial x} g(x^2) \\\\\n",
    "                                &= \\frac{\\partial}{\\partial x} (x^2+y)^2 \\\\\n",
    "                                &= \\frac{\\partial}{\\partial x} (x^4 + 2x^2y + y^2) \\\\\n",
    "                                &= 4x^3 + 4xy\n",
    "\\end{aligned}$$"
   ]
  },
  {
   "cell_type": "markdown",
   "metadata": {},
   "source": [
    "# Multivariable Calculus\n",
    "\n",
    "Recall that a matrix $A \\in R^{n\\times n}$ is symmetric if $A^T = A$, that is, $A_{ij} = A_{ji}$ for\n",
    "all $i, j$. Also recall the gradient $\\Delta f(x)$ of a function $f : R^n → R$ is the $n$−vector\n",
    "of partial derivatives\n",
    "\n",
    "$$\n",
    "\\Delta f(x) = \\left\\{\n",
    "\\begin{matrix}\n",
    "    \\frac{\\partial}{\\partial x_1}f(x) \\\\\n",
    "    ... \\\\\n",
    "    \\frac{\\partial}{\\partial x_1}f(x)\n",
    "    \\end{matrix}\n",
    "\\right\\}\n",
    "$$\n",
    "\n",
    "where\n",
    "\n",
    "$$\n",
    "x = \\left\\{\n",
    "\\begin{matrix}\n",
    "    x_1 \\\\\n",
    "    ... \\\\\n",
    "    x_n\n",
    "\\end{matrix}\n",
    "\\right\\}\n",
    "$$\n",
    "\n",
    "The hessian $\\Delta^2 f(x)$ is the $n\\times n$ symmetric matrix of twice partial derivatives,\n",
    "\n",
    "$$\\begin{aligned}\n",
    "\\Delta^2f(x) = \\left\\{\n",
    "\\begin{matrix}\n",
    "    \\frac{\\partial^2}{\\partial x_1^2}f(x) & \\frac{\\partial^2}{\\partial x_1 \\partial x_2}f(x) & \\cdots & \\frac{\\partial^2}{\\partial x_1 \\partial x_n} \\\\\n",
    "    \\frac{\\partial^2}{\\partial x_2 \\partial x_1}f(x) & \\frac{\\partial^2}{\\partial x_2^2}f(x) & \\cdots & \\frac{\\partial^2}{\\partial x_2 \\partial x_n} \\\\\n",
    "    \\vdots & \\vdots & \\ddots & \\vdots \\\\\n",
    "    \\frac{\\partial^2}{\\partial x_n \\partial x_1}f(x) & \\frac{\\partial^2}{\\partial x_n \\partial x_2}f(x) & \\cdots & \\frac{\\partial^2}{\\partial x_n^2} \\\\\n",
    "\\end{matrix}\n",
    "\\right\\}\n",
    "\\end{aligned}$$\n"
   ]
  },
  {
   "cell_type": "markdown",
   "metadata": {},
   "source": [
    "- a Let $f(x) = \\frac{1}{2}x^TAx+b^Tx$, where $a$ is a sysmmetric matrix and $b\\in R^n$ is a vector. What is $\\Delta f(x)$?"
   ]
  },
  {
   "cell_type": "markdown",
   "metadata": {},
   "source": [
    "$\\because$ $A\\in R^{n\\times n}$, $A_{ij} = A_{ji}$ and $f(x)= \\frac{1}{2}x^TAx+b^Tx$\n",
    "\n",
    "$\\therefore$\n",
    "$$\\begin{aligned}\n",
    "    \\frac{\\partial}{\\partial x_i} f(x) &= \\frac{\\partial}{\\partial x_1} (\\frac{1}{2}x^TAx+b^Tx) \\\\\n",
    "    &= \\frac{\\partial}{\\partial x_i}\\space \\frac{1}{2}\\left\\{\\begin{matrix}\n",
    "            x_1 \\cdots x_n\n",
    "            \\end{matrix}\\right\\}\n",
    "            \\left\\{\\begin{matrix}\n",
    "            A_{1,1} & A_{1,2}\\space & \\cdots & A_{1,n} \\\\\n",
    "            A_{2,1} & A_{2,2}\\space & \\cdots & A_{2,n} \\\\\n",
    "            \\vdots & \\vdots & \\ddots & \\vdots \\\\\n",
    "            A_{n,1} & A_{n,2} & \\cdots & A_{n,n} \\\\\n",
    "            \\end{matrix}\\right\\}\n",
    "            \\left\\{\\begin{matrix}\n",
    "            x_1 \\\\\n",
    "            x_2 \\\\\n",
    "            \\vdots \\\\\n",
    "            x_n\n",
    "            \\end{matrix}\\right\\}\n",
    "            +\\left\\{\\begin{matrix}\n",
    "            b_1\\space b_2\\space ... b_n\n",
    "            \\end{matrix}\\right\\}\\left\\{\\begin{matrix}\n",
    "            x_1 \\\\\n",
    "            x_2 \\\\\n",
    "            \\vdots \\\\\n",
    "            x_n\n",
    "            \\end{matrix}\\right\\} \\\\\n",
    "    &= \\frac{\\partial}{\\partial x_i} (\\frac{1}{2} \\sum_{i=1}^{n}\\sum_{j=1}^{n}A_{ij}x_ix_j + \\sum_{i=1}^n b_ix_i) \\\\\n",
    "    &= \\frac{\\partial}{\\partial x_i} [\\frac{1}{2} (\\sum_{i=1}^{n}A_{ii}x_i^2 + \\sum_{i=1, i\\neq j}^{n}\\sum_{j=1, i\\neq j}^{n}A_{ij}x_ix_j) + \\sum_{i=1}^n b_ix_i] \\\\\n",
    "    &= A_{ii}x_i + \\sum_{j=1,i\\neq j}^{n}A_{ij}x_j + \\sum_{i=1}^{n}b_i\n",
    "\\end{aligned}$$\n",
    "\n",
    "\n",
    "$\\therefore$\n",
    "$$\n",
    "\\Delta f(x) = \\left\\{\n",
    "\\begin{matrix}\n",
    "    A_{1,1}x_1 + \\sum_{j=1, j\\neq 1}A_{1,j}x_j + \\sum_{i=1}^{n}b_i \\\\\n",
    "    \\vdots \\\\\n",
    "    A_{n,n}x_n + \\sum_{j=1, j\\neq n}A_{n,j}x_j + \\sum_{i=1}^{n}b_i\n",
    "\\end{matrix}\n",
    "\\right\\}\n",
    "$$"
   ]
  },
  {
   "cell_type": "markdown",
   "metadata": {},
   "source": [
    "- b Let $f(x) = g(a^Tx)$"
   ]
  },
  {
   "cell_type": "code",
   "execution_count": null,
   "metadata": {},
   "outputs": [],
   "source": []
  },
  {
   "cell_type": "markdown",
   "metadata": {},
   "source": [
    "- c"
   ]
  },
  {
   "cell_type": "code",
   "execution_count": null,
   "metadata": {},
   "outputs": [],
   "source": []
  },
  {
   "cell_type": "markdown",
   "metadata": {},
   "source": [
    "- d"
   ]
  },
  {
   "cell_type": "code",
   "execution_count": null,
   "metadata": {},
   "outputs": [],
   "source": []
  },
  {
   "cell_type": "markdown",
   "metadata": {},
   "source": [
    "# Hands On"
   ]
  },
  {
   "cell_type": "code",
   "execution_count": 7,
   "metadata": {},
   "outputs": [],
   "source": [
    "with open(\"diabetes.txt\",\"r\") as file:\n",
    "    reader = csv.reader(file, delimiter=' ')\n",
    "    table = np.asarray([row for row in reader], dtype=np.float)\n"
   ]
  },
  {
   "cell_type": "code",
   "execution_count": 12,
   "metadata": {},
   "outputs": [],
   "source": [
    "training_set = table[:200,:]\n",
    "validation_set = table[200:,:]"
   ]
  },
  {
   "cell_type": "code",
   "execution_count": 10,
   "metadata": {},
   "outputs": [
    {
     "data": {
      "text/plain": [
       "(442, 11)"
      ]
     },
     "execution_count": 10,
     "metadata": {},
     "output_type": "execute_result"
    }
   ],
   "source": [
    "table.shape"
   ]
  }
 ],
 "metadata": {
  "kernelspec": {
   "display_name": "Python 3",
   "language": "python",
   "name": "python3"
  },
  "language_info": {
   "codemirror_mode": {
    "name": "ipython",
    "version": 3
   },
   "file_extension": ".py",
   "mimetype": "text/x-python",
   "name": "python",
   "nbconvert_exporter": "python",
   "pygments_lexer": "ipython3",
   "version": "3.7.0b3"
  }
 },
 "nbformat": 4,
 "nbformat_minor": 2
}
