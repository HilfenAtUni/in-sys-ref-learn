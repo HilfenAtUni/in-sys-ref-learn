{
 "cells": [
  {
   "cell_type": "markdown",
   "metadata": {},
   "source": [
    "\n",
    "| Name | Matriknr. | Studiengang |\n",
    "| --- | --- | --- |\n",
    "| Zhang.Guangde| 4200165| Msc. Informatik|\n",
    "| Lan.Songnian| 4055640|Msc. Informatik|\n",
    "|Yi.Zixin | 4126223|Msc. Informatik|"
   ]
  },
  {
   "cell_type": "code",
   "execution_count": 1,
   "metadata": {},
   "outputs": [],
   "source": [
    "import numpy as np\n",
    "import matplotlib.pyplot as plt\n",
    "import csv\n",
    "import pandas as pd\n",
    "%matplotlib inline"
   ]
  },
  {
   "cell_type": "markdown",
   "metadata": {},
   "source": [
    "# Refresher on Linear Algebra and Derivatives\n"
   ]
  },
  {
   "cell_type": "markdown",
   "metadata": {},
   "source": [
    "- (a) Let $A$ be a $3 \\times 4$ matrix and $B$ a $3 \\times 2$ matrix, what is the size of $A^T B$."
   ]
  },
  {
   "cell_type": "markdown",
   "metadata": {},
   "source": [
    "Answer:    \n",
    "As we known A is a $3 \\times 4$ matrix, so the  transpose of A is a $4 \\times 3$. Then the size  of $A^T B$ is a $4 \\times 2$ matrix.\n",
    "\n",
    "$\\because \\begin{aligned}\n",
    "A = \\left\\{\\begin{matrix}\n",
    " a_{11} & a_{12} & a_{13} & a_{14} \\\\\n",
    " a_{21} & a_{22} & a_{23} & a_{24} \\\\\n",
    " a_{31} & a_{32} & a_{33} & a_{34}\n",
    "\\end{matrix}\\right\\}\n",
    "\\end{aligned}$ and\n",
    "$\\begin{aligned}\n",
    "B = \\left\\{\\begin{matrix}\n",
    " b_{11} & b_{12} \\\\\n",
    " b_{21} & b_{22} \\\\\n",
    " b_{31} & b_{32}\n",
    "\\end{matrix}\\right\\}\n",
    "\\end{aligned}$\n",
    "\n",
    "$\\therefore \\begin{aligned}\n",
    "A^T = \\left\\{\\begin{matrix}\n",
    " a_{11} & a_{21} & a_{31} \\\\\n",
    " a_{12} & a_{22} & a_{32} \\\\\n",
    " a_{13} & a_{23} & a_{33} \\\\\n",
    " a_{14} & a_{24} & a_{34}\n",
    "\\end{matrix}\\right\\}\n",
    "\\end{aligned}$\n",
    "\n",
    "$\\begin{aligned}\n",
    "A^TB &= \\left\\{\\begin{matrix}\n",
    " a_{11} & a_{21} & a_{31} \\\\\n",
    " a_{12} & a_{22} & a_{32} \\\\\n",
    " a_{13} & a_{23} & a_{33} \\\\\n",
    " a_{14} & a_{24} & a_{34}\n",
    "\\end{matrix}\\right\\}\n",
    "\\left\\{\\begin{matrix}\n",
    " b_{11} & b_{12} \\\\\n",
    " b_{21} & b_{22} \\\\\n",
    " b_{31} & b_{32}\n",
    "\\end{matrix}\\right\\} \\\\\n",
    " &= \\left\\{\\begin{matrix}\n",
    "     \\sum_{i=1}^{3}\\sum_{j=1}^{3}a_{i1}b_{j1} & \\sum_{i=1}^{3}\\sum_{j=1}^{3}a_{i1}b_{j2} \\\\\n",
    "     \\sum_{i=2}^{3}\\sum_{j=1}^{3}a_{i1}b_{j1} & \\sum_{i=2}^{3}\\sum_{j=1}^{3}a_{i1}b_{j2} \\\\\n",
    "     \\sum_{i=3}^{3}\\sum_{j=1}^{3}a_{i1}b_{j1} & \\sum_{i=3}^{3}\\sum_{j=1}^{3}a_{i1}b_{j2} \\\\\n",
    "     \\sum_{i=4}^{3}\\sum_{j=1}^{3}a_{i1}b_{j1} & \\sum_{i=4}^{3}\\sum_{j=1}^{3}a_{i1}b_{j2}\n",
    " \\end{matrix}\\right\\}\n",
    "\\end{aligned}$"
   ]
  },
  {
   "cell_type": "code",
   "execution_count": 2,
   "metadata": {},
   "outputs": [
    {
     "name": "stdout",
     "output_type": "stream",
     "text": [
      "A.T:(4, 3) x B:(3, 2)=C:(4, 2)\n"
     ]
    }
   ],
   "source": [
    "A = np.ones(shape=(3,4))\n",
    "B = np.ones(shape=(3,2))\n",
    "C = A.T.dot(B)\n",
    "print(\"A.T:{} x B:{}=C:{}\".format(A.T.shape, B.shape, C.shape))"
   ]
  },
  {
   "cell_type": "markdown",
   "metadata": {},
   "source": [
    "- (b) Let $x \\in R^n$ be a column vector (vectors are always columns for us) and $A$ a $m × n$ matrix. What is the size of $Ax$."
   ]
  },
  {
   "cell_type": "markdown",
   "metadata": {},
   "source": [
    "Answer:   \n",
    "From above we know that , x is a column vector ,also $n×1$ matrix. A is a $m × n$ matrix. So the size of $Ax$ is $m×1$ matrix.\n",
    "\n",
    "assume $x=\\left\\{\\begin{matrix}x_1 \\dots x_n\\end{matrix}\\right\\}^T$ and $\\begin{aligned}\n",
    "    A=\\left\\{\\begin{matrix}\n",
    "        A_{1,1} & A_{1,2} & \\dots & A_{1,n} \\\\\n",
    "        A_{2,1} & A_{2,2} & \\dots & A_{2,n} \\\\\n",
    "        \\vdots & \\vdots & \\ddots & \\vdots \\\\\n",
    "        A_{m,1} & A_{m,2} & \\dots & A_{m,n}\n",
    "    \\end{matrix}\\right\\}\n",
    "\\end{aligned}$\n",
    "\n",
    "$\\begin{aligned}\n",
    "    Ax &= \\left\\{\\begin{matrix}\n",
    "        A_{1,1} & A_{1,2} & \\dots & A_{1,n} \\\\\n",
    "        A_{2,1} & A_{2,2} & \\dots & A_{2,n} \\\\\n",
    "        \\vdots & \\vdots & \\ddots & \\vdots \\\\\n",
    "        A_{m,1} & A_{m,2} & \\dots & A_{m,n}\n",
    "    \\end{matrix}\\right\\}\n",
    "    \\left\\{\\begin{matrix}x_1 \\\\\n",
    "        \\vdots \\\\\n",
    "        x_n\\end{matrix}\\right\\} \\\\\n",
    "    &= \\left\\{\\begin{matrix}\n",
    "        \\sum_{i=1}^{n} A_{1,i}x_i \\\\\n",
    "        \\vdots \\\\\n",
    "        \\sum_{i=1}^{n} A_{m,i}x_i \\\\\n",
    "    \\end{matrix}\\right\\}\n",
    "\\end{aligned}$"
   ]
  },
  {
   "cell_type": "code",
   "execution_count": 3,
   "metadata": {},
   "outputs": [
    {
     "name": "stdout",
     "output_type": "stream",
     "text": [
      "A:(5, 4) * x:(4, 1) = y:(5, 1)\n"
     ]
    }
   ],
   "source": [
    "x = np.ones(shape=(4,1))\n",
    "A = np.ones(shape=(5,4))\n",
    "y = A.dot(x)\n",
    "print(\"A:{} * x:{} = y:{}\".format(A.shape, x.shape, y.shape))"
   ]
  },
  {
   "cell_type": "markdown",
   "metadata": {},
   "source": [
    "- (c) What is the derivative of $f(x) = (2x + y)^2$ w.r.t. x:$\\frac{\\partial}{\\partial x}f(x)$"
   ]
  },
  {
   "cell_type": "markdown",
   "metadata": {},
   "source": [
    "$$\\begin{aligned}\n",
    "\\frac{\\partial}{\\partial x} f(x) &= \\frac{\\partial}{\\partial x} (2x+y)^2 \\\\\n",
    "                                 &=  2(2x+y).2 \\\\\n",
    "                                 &= 8x + 4y\n",
    "\\end{aligned}$$"
   ]
  },
  {
   "cell_type": "markdown",
   "metadata": {},
   "source": [
    "- (d) Given $f(x) = g(x^2)$ where $g(x) = (x + y)^2$, what is $\\frac{\\partial}{\\partial x}f(x)$"
   ]
  },
  {
   "cell_type": "markdown",
   "metadata": {},
   "source": [
    "$$\\begin{aligned}\n",
    "\\frac{\\partial}{\\partial x}f(x) &= \\frac{\\partial}{\\partial x} g(x^2) \\\\\n",
    "                                &= (\\frac{\\partial}{\\partial x} (x^2+y)^2 )*(\\frac{\\partial}{\\partial x} (x^2))\\\\\n",
    "                                &= (2(x+y))*(2x) \\\\\n",
    "                                &= 4x^3 + 4xy\n",
    "\\end{aligned}$$"
   ]
  },
  {
   "cell_type": "markdown",
   "metadata": {},
   "source": [
    "# Multivariable Calculus\n",
    "\n",
    "Recall that a matrix $A \\in R^{n\\times n}$ is symmetric if $A^T = A$, that is, $A_{ij} = A_{ji}$ for\n",
    "all $i, j$. Also recall the gradient $\\nabla f(x)$ of a function $f : R^n → R$ is the $n$−vector\n",
    "of partial derivatives\n",
    "\n",
    "$$\n",
    "\\nabla f(x) = \\left\\{\n",
    "\\begin{matrix}\n",
    "    \\frac{\\partial}{\\partial x_1}f(x) \\\\\n",
    "    ... \\\\\n",
    "    \\frac{\\partial}{\\partial x_1}f(x)\n",
    "    \\end{matrix}\n",
    "\\right\\}\n",
    "$$\n",
    "\n",
    "where\n",
    "\n",
    "$$\n",
    "x = \\left\\{\n",
    "\\begin{matrix}\n",
    "    x_1 \\\\\n",
    "    ... \\\\\n",
    "    x_n\n",
    "\\end{matrix}\n",
    "\\right\\}\n",
    "$$\n",
    "\n",
    "The hessian $\\nabla^2 f(x)$ is the $n\\times n$ symmetric matrix of twice partial derivatives,\n",
    "\n",
    "$$\\begin{aligned}\n",
    "\\nabla^2f(x) = \\left\\{\n",
    "\\begin{matrix}\n",
    "    \\frac{\\partial^2}{\\partial x_1^2}f(x) & \\frac{\\partial^2}{\\partial x_1 \\partial x_2}f(x) & \\cdots & \\frac{\\partial^2}{\\partial x_1 \\partial x_n} \\\\\n",
    "    \\frac{\\partial^2}{\\partial x_2 \\partial x_1}f(x) & \\frac{\\partial^2}{\\partial x_2^2}f(x) & \\cdots & \\frac{\\partial^2}{\\partial x_2 \\partial x_n} \\\\\n",
    "    \\vdots & \\vdots & \\ddots & \\vdots \\\\\n",
    "    \\frac{\\partial^2}{\\partial x_n \\partial x_1}f(x) & \\frac{\\partial^2}{\\partial x_n \\partial x_2}f(x) & \\cdots & \\frac{\\partial^2}{\\partial x_n^2} \\\\\n",
    "\\end{matrix}\n",
    "\\right\\}\n",
    "\\end{aligned}$$\n"
   ]
  },
  {
   "cell_type": "markdown",
   "metadata": {},
   "source": [
    "- a) Let $f(x) = \\frac{1}{2}x^TAx+b^Tx$, where $a$ is a sysmmetric matrix and $b\\in R^n$ is a vector. What is $\\nabla f(x)$?"
   ]
  },
  {
   "cell_type": "markdown",
   "metadata": {},
   "source": [
    "$\\because$ $A\\in R^{n\\times n}$, $A_{ij} = A_{ji}$ and $f(x)= \\frac{1}{2}x^TAx+b^Tx$\n",
    "\n",
    "$\\therefore$\n",
    "$$\\begin{aligned}\n",
    "    \\frac{\\partial}{\\partial x_i} f(x) &= \\frac{\\partial}{\\partial x_i} (\\frac{1}{2}x^TAx+b^Tx) \\\\\n",
    "    &= \\frac{\\partial}{\\partial x_i}(\\space \\frac{1}{2}\\left\\{\\begin{matrix}\n",
    "            x_1 \\cdots x_n\n",
    "            \\end{matrix}\\right\\}\n",
    "            \\left\\{\\begin{matrix}\n",
    "            A_{1,1} & A_{1,2}\\space & \\cdots & A_{1,n} \\\\\n",
    "            A_{2,1} & A_{2,2}\\space & \\cdots & A_{2,n} \\\\\n",
    "            \\vdots & \\vdots & \\ddots & \\vdots \\\\\n",
    "            A_{n,1} & A_{n,2} & \\cdots & A_{n,n} \\\\\n",
    "            \\end{matrix}\\right\\}\n",
    "            \\left\\{\\begin{matrix}\n",
    "            x_1 \\\\\n",
    "            x_2 \\\\\n",
    "            \\vdots \\\\\n",
    "            x_n\n",
    "            \\end{matrix}\\right\\}\n",
    "            +\\left\\{\\begin{matrix}\n",
    "            b_1\\space b_2\\space ... b_n\n",
    "            \\end{matrix}\\right\\}\\left\\{\\begin{matrix}\n",
    "            x_1 \\\\\n",
    "            x_2 \\\\\n",
    "            \\vdots \\\\\n",
    "            x_n\n",
    "            \\end{matrix}\\right\\} )\\\\\n",
    "    &= \\frac{\\partial}{\\partial x_i} (\\frac{1}{2} \\sum_{i=1}^{n}\\sum_{j=1}^{n}A_{ij}x_ix_j + \\sum_{j=1}^n b_jx_i) \\\\\n",
    "    &= \\frac{\\partial}{\\partial x_i} (\\frac{1}{2} (\\sum_{i=1}^{n}A_{ii}x_i^2 + \\sum_{i=1, i\\neq j}^{n}\\sum_{j=1, i\\neq j}^{n}A_{ij}x_ix_j) + \\sum_{j=1}^n b_jx_i) \\\\\n",
    "    &= A_{ii}x_i + \\sum_{j=1,i\\neq j}^{n}A_{ij}x_i + \\sum_{j=1}^{n}b_j \\\\\n",
    "    &= \\sum_{j=1}^{n}A_{ij}x_i + \\sum_{j=1}^{n}b_j\n",
    "\\end{aligned}$$\n",
    "\n",
    "\n",
    "$\\therefore$\n",
    "$$\\begin{aligned}\n",
    "\\nabla f(x) &= \\left\\{\n",
    "        \\begin{matrix}\n",
    "            \\frac{\\partial}{\\partial x_1}f(x) \\\\\n",
    "            \\vdots \\\\\n",
    "            \\frac{\\partial}{\\partial x_n}f(x) \\\\\n",
    "        \\end{matrix}\\right\\} \\\\\n",
    "    &= \\left\\{\n",
    "        \\begin{matrix}\n",
    "            \\sum_{j=1}^{n}A_{1j}x_1 + \\sum_{j=1}^{n}b_j \\\\\n",
    "            \\vdots \\\\\n",
    "            \\sum_{j=1}^{n}A_{nj}x_n + \\sum_{j=1}^{n}b_j\n",
    "        \\end{matrix}\n",
    "        \\right\\} \\\\\n",
    "    &= Ax+b\n",
    "\\end{aligned}$$"
   ]
  },
  {
   "cell_type": "markdown",
   "metadata": {},
   "source": [
    "- b) Let $f(x) = g(h(x))$, where $g:R\\to R$ is differentiable and $h: R^n\\to R$ is differentiable. What is $\\nabla f(x)$?"
   ]
  },
  {
   "cell_type": "markdown",
   "metadata": {},
   "source": [
    "$$\\begin{aligned}\n",
    "\\nabla f(x) &= \\nabla g(h(x)) \\\\\n",
    "    &= \\frac{\\partial g(h(x))}{\\partial h(x)} \\cdot \\frac{\\partial h(x)}{\\partial x} \\\\\n",
    "    &= \\frac{\\partial g(h(x))}{\\partial h(x)} \\cdot \\left\\{\\begin{matrix}\n",
    "        \\frac{\\partial h(x)}{\\partial x_1} \\\\\n",
    "        \\vdots \\\\\n",
    "        \\frac{\\partial h(x)}{\\partial x_i} \\\\\n",
    "        \\vdots \\\\\n",
    "        \\frac{\\partial h(x)}{\\partial x_n}\n",
    "    \\end{matrix}\\right\\}\n",
    "\\end{aligned}$$"
   ]
  },
  {
   "cell_type": "markdown",
   "metadata": {},
   "source": [
    "- c) Let $f(x) = \\frac{1}{2}x^Tx + b^Tx$ as in a. What is $\\nabla^2f(x)$?"
   ]
  },
  {
   "cell_type": "markdown",
   "metadata": {},
   "source": [
    "From (a) knows that $\\nabla f(x) = Ax+b$\n",
    "\n",
    "$\\therefore$ $$\\begin{aligned}\n",
    "    \\nabla^2f(x) &= \\nabla(\\nabla f(x)) \\\\\n",
    "        &= \\nabla(Ax+b) \\\\\n",
    "        &= \\left\\{\\begin{matrix}\n",
    "            \\frac{\\partial (Ax+b)}{\\partial x_1} \\\\\n",
    "            \\vdots \\\\\n",
    "            \\frac{\\partial (Ax+b)}{\\partial x_n}\n",
    "        \\end{matrix}\\right\\} \\\\\n",
    "        &= A\n",
    "\\end{aligned}$$"
   ]
  },
  {
   "cell_type": "markdown",
   "metadata": {},
   "source": [
    "- d) Let $f(x) = g(a^Tx)$, where $g:R\\to R$ is continuously differentiable and $a\\in R^n$ is a vector. What are $\\nabla f(x)$ and $\\nabla^2f(x)$?"
   ]
  },
  {
   "cell_type": "markdown",
   "metadata": {},
   "source": [
    "assume that $h(x) = a^Tx$\n",
    "\n",
    "$$\\begin{aligned}\n",
    "\\frac{\\partial h(x)}{\\partial x} &= \\frac{\\partial a^Tx}{\\partial x} \\\\\n",
    "        &= a\n",
    "\\end{aligned}$$\n",
    "\n",
    "$\\therefore$ $$\\begin{aligned}\n",
    "    \\nabla f(x) &= \\nabla g(h(x)) \\\\\n",
    "        &= \\frac{\\partial g(h)}{\\partial h} \\cdot \\frac{\\partial h(x)}{\\partial x} \\\\\n",
    "        &= \\frac{\\partial g(h)}{\\partial h} \\cdot \\frac{\\partial a^Tx}{\\partial x} \\\\\n",
    "        &= \\frac{\\partial g(h)}{\\partial h} \\cdot a\n",
    "\\end{aligned}$$\n",
    "\n",
    "$$\\begin{aligned}\n",
    "    \\nabla^2 f(x) &= \\nabla(\\nabla f(x)) \\\\\n",
    "        &= \\nabla (\\frac{\\partial g(h)}{\\partial h} \\cdot a) \\\\\n",
    "        &= 0\n",
    "\\end{aligned}$$"
   ]
  },
  {
   "cell_type": "markdown",
   "metadata": {},
   "source": [
    "# Hands On"
   ]
  },
  {
   "cell_type": "code",
   "execution_count": 20,
   "metadata": {},
   "outputs": [],
   "source": [
    "with open(\"diabetes.txt\",\"r\") as file:\n",
    "    reader = csv.reader(file, delimiter=' ')\n",
    "    table = np.asarray([row for row in reader], dtype=np.float)\n",
    "\n",
    "# table.sort(axis=0)"
   ]
  },
  {
   "cell_type": "markdown",
   "metadata": {},
   "source": [
    "- run the following experiment by taking the first 200 data points as training and the next 200 points as validation set"
   ]
  },
  {
   "cell_type": "code",
   "execution_count": 164,
   "metadata": {},
   "outputs": [],
   "source": [
    "training_set = table[:200,:] #taking the first 200 data points as training set\n",
    "validation_set = table[200:400,:] # taking the next 200 points as validation set\n",
    "# training set\n",
    "x_training =training_set[:,:10]  \n",
    "y_training =training_set[:,10:] #for taining_set choose x_matrix und y_matrix  200hang 1lie \n",
    "# validation set\n",
    "x_validation=validation_set[:,:10]  \n",
    "y_validation =validation_set[:,10:]  #for validation_set choose x_matrix und y_matrix"
   ]
  },
  {
   "cell_type": "markdown",
   "metadata": {},
   "source": [
    "- train a least squares regression model without regularization (using matrix operations)"
   ]
  },
  {
   "cell_type": "code",
   "execution_count": 165,
   "metadata": {},
   "outputs": [
    {
     "name": "stdout",
     "output_type": "stream",
     "text": [
      "solve is: [[ -417.97043881  -239.65634372   573.7328081    164.48588506\n",
      "  -2438.3248339   1673.911313     688.89188963    98.98921971\n",
      "   1287.00977365   102.9581032 ]].T\n"
     ]
    }
   ],
   "source": [
    "# by solve method\n",
    "lhs = np.dot(x_training.T, x_training)\n",
    "rhs = np.dot(x_training.T, y_training)\n",
    "w = np.linalg.solve(lhs, rhs)\n",
    "print(\"solve is: {}.T\".format(w.T))\n",
    "# by matrix operate\n",
    "w = np.mat(x_training.T.dot(x_training)).I.dot(x_training.T).dot(y_training)\n",
    "# print(\"solve is: {}.T\".format(w.T))"
   ]
  },
  {
   "cell_type": "markdown",
   "metadata": {},
   "source": [
    "- for each regularization parameters $\\lambda\\in\\lbrace2^{-20},2^{-19},...2^{10} \\rbrace$ train a ridge regression model with regularization \u0015 (using matrix operations)"
   ]
  },
  {
   "cell_type": "code",
   "execution_count": 181,
   "metadata": {},
   "outputs": [],
   "source": [
    "# parameters $\\lamda$\n",
    "h = np.asarray([i for i in range(-20, 10, 1)])\n",
    "lamda = np.exp2(h)\n",
    "d = 10\n",
    "# calculate w\n",
    "w = []\n",
    "for l in lamda:\n",
    "    ww = np.linalg.inv(np.sum(x_training.T.dot(x_training))\n",
    "                       + np.eye(M=d,N=d).dot(l)).dot(x_training.T).dot(y_training)\n",
    "    w.append(ww)\n",
    "w = np.asarray(w)"
   ]
  },
  {
   "cell_type": "markdown",
   "metadata": {},
   "source": [
    "- evaluate the trained models on the validation set"
   ]
  },
  {
   "cell_type": "code",
   "execution_count": 186,
   "metadata": {},
   "outputs": [
    {
     "data": {
      "image/png": "[encoded data removed]",
      "text/plain": [
       "<Figure size 1152x432 with 1 Axes>"
      ]
     },
     "metadata": {
      "needs_background": "light"
     },
     "output_type": "display_data"
    }
   ],
   "source": [
    "err_tra = []\n",
    "err_tst = []\n",
    "fig = plt.figure(figsize=(16,6))\n",
    "\n",
    "# error of training dataset\n",
    "for i, ww in enumerate(w):\n",
    "    diff = np.subtract(ww.T.dot(x_training.T), y_training)\n",
    "    err_tra.append(np.std(diff));\n",
    "err_tra = np.asarray(err_tra);\n",
    "\n",
    "# error of test dataset\n",
    "for i, ww in enumerate(w):\n",
    "    diff = np.subtract(ww.T.dot(x_validation.T), y_validation)\n",
    "    err_tst.append(np.std(diff));\n",
    "err_tst = np.asarray(err_tst);\n",
    "\n",
    "plt.plot(err_tra, 'r.-');\n",
    "plt.plot(err_tst, 'b.-');\n",
    "plt.grid(True);\n",
    "plt.xlabel('$\\lambda$');"
   ]
  },
  {
   "cell_type": "markdown",
   "metadata": {},
   "source": [
    "- plot the results in a style that you fnd most appropriate/informative including the selected regularization parameter."
   ]
  },
  {
   "cell_type": "code",
   "execution_count": 187,
   "metadata": {
    "scrolled": false
   },
   "outputs": [
    {
     "name": "stderr",
     "output_type": "stream",
     "text": [
      "/media/self/develop/branch.git/works/uni/publics/runtime/python3.7/lib/python3.7/site-packages/ipykernel_launcher.py:13: RuntimeWarning: invalid value encountered in true_divide\n",
      "  del sys.path[0]\n",
      "/media/self/develop/branch.git/works/uni/publics/runtime/python3.7/lib/python3.7/site-packages/ipykernel_launcher.py:17: RuntimeWarning: invalid value encountered in true_divide\n"
     ]
    },
    {
     "data": {
      "image/png": "[encoded data removed]",
      "text/plain": [
       "<Figure size 1152x432 with 1 Axes>"
      ]
     },
     "metadata": {
      "needs_background": "light"
     },
     "output_type": "display_data"
    }
   ],
   "source": [
    "fig = plt.figure(figsize=(16,6))\n",
    "\n",
    "kb = []\n",
    "vkb = []\n",
    "oplamda = 2**(-15);\n",
    "idx = range(1, 201, 10)\n",
    "\n",
    "for n in idx:\n",
    "    x = x_training[:n, :]\n",
    "    xxt = x.dot(x.T)\n",
    "    xxtl = x.dot(x.T) + np.dot(np.eye(M=n, N=n), oplamda)\n",
    "#         k.append(np.divide(np.argmax(xxt), np.argmin(xxt)))\n",
    "    kb.append(np.divide(np.argmax(xxtl), np.argmin(xxtl)))\n",
    "    vx = x_validation[:n, :]\n",
    "    vxxt = vx.dot(vx.T)\n",
    "    vxxtl = vx.dot(vx.T) + np.dot(np.eye(M=n, N=n), oplamda);\n",
    "    vkb.append(np.divide(np.argmax(vxxtl), np.argmin(vxxtl)))\n",
    "plt.plot(idx, kb, 'b.-');\n",
    "plt.plot(idx, vkb, 'r.-');\n",
    "plt.title('$\\lambda=2^{-15}$');"
   ]
  }
 ],
 "metadata": {
  "kernelspec": {
   "display_name": "Python 3",
   "language": "python",
   "name": "python3"
  },
  "language_info": {
   "codemirror_mode": {
    "name": "ipython",
    "version": 3
   },
   "file_extension": ".py",
   "mimetype": "text/x-python",
   "name": "python",
   "nbconvert_exporter": "python",
   "pygments_lexer": "ipython3",
   "version": "3.7.0b3"
  }
 },
 "nbformat": 4,
 "nbformat_minor": 2
}
